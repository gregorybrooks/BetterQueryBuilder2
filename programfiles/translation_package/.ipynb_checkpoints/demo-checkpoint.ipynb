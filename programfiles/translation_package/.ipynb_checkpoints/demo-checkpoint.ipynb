{
 "cells": [
  {
   "cell_type": "code",
   "execution_count": 1,
   "metadata": {},
   "outputs": [],
   "source": [
    "from GalagoQT import GalagoQT"
   ]
  },
  {
   "cell_type": "code",
   "execution_count": 2,
   "metadata": {},
   "outputs": [],
   "source": [
    "# initialize\n",
    "isi_tt_path = 'ttable/isi_tt_ar-en/unidirectional-with-null-en-ar.simple-tok.txt'\n",
    "muse_emb_src_path = 'muse/wiki.multi.en.vec'\n",
    "muse_emb_tgt_path = 'muse/wiki.multi.ar.vec'\n",
    "\n",
    "myQT = GalagoQT(tt_dir=isi_tt_path, emb_src_path=muse_emb_src_path, emb_tgt_path=muse_emb_tgt_path)"
   ]
  },
  {
   "cell_type": "code",
   "execution_count": 3,
   "metadata": {},
   "outputs": [
    {
     "name": "stdout",
     "output_type": "stream",
     "text": [
      "[(0.434063, 'شمال'), (0.201533, 'الشمال'), (0.100117, 'الشمالية'), (0.0772647, 'وشمال'), (0.0344422, 'بشمال')]\n",
      "[(0.7136805580028854, 'ﺍﻟﺠﻨﻮﺑﻴﺔ،'), (0.7015338455428446, 'ﺍﻟﺸﻤﺎﻟﻴﺔ،'), (0.6932528989570623, 'ﺍﻟﺸﻤﺎﻟﻴﺔ'), (0.692848562680318, 'ﻭﺍﻟﺠﻨﻮﺑﻴﺔ،'), (0.6923829864376021, 'ﺍﻟﺠﻨﻮﺑﻴﺔ')]\n"
     ]
    }
   ],
   "source": [
    "print(myQT.get_tt_topk('north', topk=5))\n",
    "print(myQT.get_muse_topk('north', topk=5))"
   ]
  },
  {
   "cell_type": "code",
   "execution_count": 5,
   "metadata": {},
   "outputs": [
    {
     "name": "stdout",
     "output_type": "stream",
     "text": [
      "#sdm(#synonym(شمال الشمال) #synonym(كوريا الشمالية))\n",
      "#sdm(شمال كوريا)\n",
      "#synonym(شمال الشمال)\n"
     ]
    }
   ],
   "source": [
    "cur_phrase = 'North Korea'\n",
    "\n",
    "print(myQT.tranlate_phrase_sdm_syn(cur_phrase, tran_top_k=2))\n",
    "print(myQT.tranlate_phrase_sdm_syn(cur_phrase, tran_top_k=1)) # we don't need #synonym since there is only one translation\n",
    "print(myQT.tranlate_phrase_sdm_syn('North', tran_top_k=2))  # we don't need #sdm since the phrase is only a single word"
   ]
  },
  {
   "cell_type": "code",
   "execution_count": 6,
   "metadata": {},
   "outputs": [
    {
     "name": "stdout",
     "output_type": "stream",
     "text": [
      "#sdm(#synonym(شمال الشمال) #synonym(كوريا الشمالية))\n",
      "#sdm(#synonym(ﺍﻟﺠﻨﻮﺑﻴﺔ، ﺍﻟﺸﻤﺎﻟﻴﺔ،) #synonym(ﻛﻮﺭﻳﺎ ﺍﻟﻜﻮﺭﻳﺎ))\n",
      "#sdm(#synonym(شمال الشمال ﺍﻟﺠﻨﻮﺑﻴﺔ، ﺍﻟﺸﻤﺎﻟﻴﺔ،) #synonym(كوريا الشمالية ﻛﻮﺭﻳﺎ ﺍﻟﻜﻮﺭﻳﺎ))\n"
     ]
    }
   ],
   "source": [
    "#     Specify trans_type for either translation table, or MUSE embeddings:\n",
    "#     1. (default) trans_type='tt_syn_op' get tran_top_k of translations from tt\n",
    "#     2. trans_type='clw_syn_op' get tran_top_k of translations from embedding\n",
    "#     3. trans_type='tt_clw_syn_op' get tran_top_k of translations from each of tt and embedding\n",
    "print(myQT.tranlate_phrase_sdm_syn(cur_phrase, tran_top_k=2, trans_type='tt_syn_op'))\n",
    "print(myQT.tranlate_phrase_sdm_syn(cur_phrase, tran_top_k=2, trans_type='clw_syn_op'))\n",
    "print(myQT.tranlate_phrase_sdm_syn(cur_phrase, tran_top_k=2, trans_type='tt_clw_syn_op'))"
   ]
  },
  {
   "cell_type": "code",
   "execution_count": null,
   "metadata": {},
   "outputs": [],
   "source": []
  }
 ],
 "metadata": {
  "kernelspec": {
   "display_name": "py37_conda",
   "language": "python",
   "name": "py37"
  },
  "language_info": {
   "codemirror_mode": {
    "name": "ipython",
    "version": 3
   },
   "file_extension": ".py",
   "mimetype": "text/x-python",
   "name": "python",
   "nbconvert_exporter": "python",
   "pygments_lexer": "ipython3",
   "version": "3.7.0"
  }
 },
 "nbformat": 4,
 "nbformat_minor": 2
}
